{
 "cells": [
  {
   "cell_type": "code",
   "execution_count": 20,
   "metadata": {},
   "outputs": [
    {
     "name": "stdout",
     "output_type": "stream",
     "text": [
      "{'knowledgeId': 11640931182756729, 'knowledgeName': '(供中医学、针灸推拿学专业用)', 'bookId': 1661197818947309568, 'kgSource': 1, 'status': 0, 'parentId': 0, 'level': 2, 'deleted': 0, 'isDesc': 3, 'nodeType': 0, 'attrs': '05', 'sorted': 1, 'isGraph': 0, 'attrType': 0, 'courseAttrs': '', 'style': '', 'orderId': '2', 'aliaName': [{'Id': 11640931182756729, 'sort': 1, 'content': 'aa', 'source': 1}]}\n"
     ]
    }
   ],
   "source": [
    "import ast\n",
    "import pandas as pd\n",
    "with open('./Data/response.json', 'r') as file:\n",
    "        content = file.read()\n",
    "        data = ast.literal_eval(content)\n",
    "cur_chaper_name = ''\n",
    "cur_know_name = ''\n",
    "for item in data['data']:\n",
    "        temp_dict = {'Id': item['knowledgeId'], 'sort': 1, 'content': 'AA', 'source':1}\n",
    "        aliaName = item.get('aliaName', None)\n",
    "        if aliaName and type(aliaName) == list:\n",
    "                aliaName.append(temp_dict)\n",
    "        else:\n",
    "               item['aliaName'] = [temp_dict] \n",
    "        break\n",
    "print(data['data'][0])\n",
    "# df = pd.DataFrame()\n",
    "# new_row = None\n",
    "# for data in data_list:\n",
    "#         if data[\"title_level\"] == 0:\n",
    "#                 cur_chaper_name = data[\"title\"]\n",
    "#         elif data[\"title_level\"] == 1:\n",
    "#                 cur_know_name = data['title']\n",
    "#                 new_row = {'章节': cur_chaper_name, '知识点': cur_know_name}\n",
    "#                 df = pd.concat([df, pd.DataFrame(new_row, index=[0])], ignore_index=True)\n",
    "#         elif data[\"title_level\"] == 2:\n",
    "#                 new_row = {'章节': cur_chaper_name, '知识点': cur_know_name, '一级属性': data['title']}\n",
    "#                 df = pd.concat([df, pd.DataFrame(new_row, index=[0])], ignore_index=True)"
   ]
  }
 ],
 "metadata": {
  "kernelspec": {
   "display_name": "Python 3",
   "language": "python",
   "name": "python3"
  },
  "language_info": {
   "codemirror_mode": {
    "name": "ipython",
    "version": 3
   },
   "file_extension": ".py",
   "mimetype": "text/x-python",
   "name": "python",
   "nbconvert_exporter": "python",
   "pygments_lexer": "ipython3",
   "version": "3.8.10"
  },
  "orig_nbformat": 4
 },
 "nbformat": 4,
 "nbformat_minor": 2
}
