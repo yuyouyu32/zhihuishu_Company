{
 "cells": [
  {
   "cell_type": "code",
   "execution_count": 12,
   "metadata": {},
   "outputs": [],
   "source": [
    "import os\n",
    "import re"
   ]
  },
  {
   "attachments": {},
   "cell_type": "markdown",
   "metadata": {},
   "source": [
    "# SIGHAN"
   ]
  },
  {
   "cell_type": "code",
   "execution_count": 16,
   "metadata": {},
   "outputs": [
    {
     "name": "stdout",
     "output_type": "stream",
     "text": [
      "./SIGHAN/test13_correct.txt ./SIGHAN/test13_error.txt\n",
      "./SIGHAN/test14_correct.txt ./SIGHAN/test14_error.txt\n",
      "./SIGHAN/test15_correct.txt ./SIGHAN/test15_error.txt\n"
     ]
    }
   ],
   "source": [
    "folder_path = './SIGHAN'  # 文件夹路径\n",
    "c_files = []\n",
    "e_files = []\n",
    "\n",
    "for file_name in os.listdir(folder_path):\n",
    "    if 'correct' in file_name:\n",
    "        c_files.append(os.path.join(folder_path, file_name))\n",
    "    elif file_name.startswith('test'):\n",
    "        e_files.append(os.path.join(folder_path, file_name))\n",
    "\n",
    "c_files.sort()\n",
    "e_files.sort()\n",
    "id = 0\n",
    "with open('./SIGHAN_dataset.txt', 'a') as f:\n",
    "    for train_file, test_file in zip(c_files, e_files):\n",
    "        print(train_file, test_file)\n",
    "        with open(train_file, 'r') as train, open(test_file, 'r') as test:\n",
    "            c_lines = train.readlines()\n",
    "            e_lines = test.readlines()\n",
    "            for c_line, e_line in zip(c_lines, e_lines):\n",
    "                number = re.findall(r'\\d+', train_file)[0]\n",
    "                save_dict = {\"id\": id, \"text\": e_line.strip(), \"answer\": c_line.strip(), \"source\": f'SIGHAN{number}'}\n",
    "                f.write(str(save_dict) + '\\n')\n",
    "                id += 1\n"
   ]
  }
 ],
 "metadata": {
  "kernelspec": {
   "display_name": "Python 3",
   "language": "python",
   "name": "python3"
  },
  "language_info": {
   "codemirror_mode": {
    "name": "ipython",
    "version": 3
   },
   "file_extension": ".py",
   "mimetype": "text/x-python",
   "name": "python",
   "nbconvert_exporter": "python",
   "pygments_lexer": "ipython3",
   "version": "3.8.10"
  },
  "orig_nbformat": 4
 },
 "nbformat": 4,
 "nbformat_minor": 2
}
